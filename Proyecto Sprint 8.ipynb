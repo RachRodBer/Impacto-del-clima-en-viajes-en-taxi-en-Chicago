{
 "cells": [
  {
   "cell_type": "markdown",
   "metadata": {},
   "source": [
    "\n",
    "¡Hola!\n",
    "\n",
    "Mi nombre es Tonatiuh Cruz. Me complace revisar tu proyecto hoy.\n",
    "\n",
    "Al identificar cualquier error inicialmente, simplemente los destacaré. Te animo a localizar y abordar los problemas de forma independiente como parte de tu preparación para un rol como data-scientist. En un entorno profesional, tu líder de equipo seguiría un enfoque similar. Si encuentras la tarea desafiante, proporcionaré una pista más específica en la próxima iteración.\n",
    "\n",
    "Encontrarás mis comentarios a continuación - **por favor no los muevas, modifiques o elimines**.\n",
    "\n",
    "Puedes encontrar mis comentarios en cajas verdes, amarillas o rojas como esta:\n",
    "\n",
    "<div class=\"alert alert-block alert-success\">\n",
    "<b>Comentario del revisor</b> <a class=\"tocSkip\"></a>\n",
    "\n",
    "Éxito. Todo está hecho correctamente.\n",
    "</div>\n",
    "\n",
    "<div class=\"alert alert-block alert-warning\">\n",
    "<b>Comentario del revisor</b> <a class=\"tocSkip\"></a>\n",
    "\n",
    "Observaciones. Algunas recomendaciones.\n",
    "</div>\n",
    "\n",
    "<div class=\"alert alert-block alert-danger\">\n",
    "<b>Comentario del revisor</b> <a class=\"tocSkip\"></a>\n",
    "\n",
    "Necesita corrección. El bloque requiere algunas correcciones. El trabajo no puede ser aceptado con comentarios en rojo.\n",
    "</div>\n",
    "\n",
    "Puedes responderme utilizando esto:\n",
    "\n",
    "<div class=\"alert alert-block alert-info\">\n",
    "<b>Respuesta del estudiante.</b> <a class=\"tocSkip\"></a>"
   ]
  },
  {
   "cell_type": "markdown",
   "metadata": {},
   "source": [
    "<h1 style=\"text-align: center;\"> Impacto del clima en los viajes realizados en taxis en Chicago</h1>"
   ]
  },
  {
   "cell_type": "markdown",
   "metadata": {},
   "source": [
    "Introducción\n",
    "\n",
    "El clima en ciudades como Chicago tiene un impacto significativo en el transporte diario, especialmente en los viajes en taxi. Condiciones como la lluvia pueden afectar tanto la duración como la distribución de los recorridos. Este estudio busca analizar cómo el clima influye en los viajes en taxi, con un enfoque en la duración de los trayectos entre el Loop y el Aeropuerto Internacional O'Hare. Asimismo,se examinará la distribución de viajes en los barrios de la ciudad y el desempeño de las principales empresas de taxis en relación a las condiciones climáticas.\n",
    "\n",
    "Objetivo\n",
    "\n",
    "El objetivo de este proyecto es estudiar el impacto del clima en los viajes en taxi en Chicago. Se probará si la duración promedio de los viajes entre el Loop y el Aeropuerto Internacional O'Hare varía en sábados lluviosos. Además, se identificarán los principales barrios en términos de finalización de recorridos y se analizará la relación entre las empresas de taxis y el número de viajes realizados, con el fin de hacer recomendaciones basadas en los resultados.\n",
    "\n",
    "Etapas del análisis\n",
    "\n",
    "Limpieza y preparación de datos: Se revisarán los datos de viajes en taxi para identificar y corregir valores faltantes o inconsistentes, asegurando que estén listos para el análisis.\n",
    "Análisis descriptivo: Se explorarán los datos iniciales para comprender la distribución de la duración de los viajes, tanto en días lluviosos como en días con buen clima y se examinará la frecuencia de los viajes.\n",
    "Identificación de los principales barrios: Se identificarán los 10 principales barrios donde finalizan la mayoría de los viajes en taxi, se mostrarán mediante gráficos para una mejor comprensión.\n",
    "Análisis de empresas de taxis: Se analizarán las principales empresas de taxis en términos de número de viajes realizados, prestando especial atención a los días lluviosos y comparando su actividad en diferentes condiciones climáticas.\n",
    "\n",
    "Prueba de hipótesis: Se planteará la hipótesis de que la duración promedio de los viajes desde el Loop hasta el Aeropuerto \n",
    "Internacional O'Hare varía en sábados lluviosos. Se utilizará una prueba t de muestras independientes para determinar si las diferencias en los tiempos de viaje son significativas.\n",
    "\n",
    "Conclusiones esperadas\n",
    "\n",
    "Se espera encontrar una variación significativa en la duración de los viajes hacia O'Hare en días lluviosos, lo que indicaría un impacto del clima en los viajes. También se anticipa que ciertos barrios serán los principales destinos de taxis, lo que revelará la demanda en distintas zonas de la ciudad. Además, se espera identificar las empresas con más viajes y cómo se adaptan a las condiciones climáticas, proporcionando una visión de su eficiencia.\n",
    "\n"
   ]
  },
  {
   "cell_type": "markdown",
   "metadata": {
    "scrolled": true
   },
   "source": [
    "Primero, importaremos las librerías necesarias para desarrollar este proyecto. Luego, realizaremos un análisis preliminar de los datos para identificar y corregir cualquier valor faltante o inconsistente, asegurando así que la información esté lista para su correcto uso en el análisis."
   ]
  },
  {
   "cell_type": "code",
   "execution_count": 1,
   "metadata": {},
   "outputs": [],
   "source": [
    "import pandas as pd\n",
    "import matplotlib.pyplot as plt \n",
    "from scipy import stats as st\n",
    "import seaborn as sns"
   ]
  },
  {
   "cell_type": "code",
   "execution_count": 2,
   "metadata": {},
   "outputs": [],
   "source": [
    "#Extraemos los datasets \n",
    "company_df = pd.read_csv('/datasets/project_sql_result_01.csv')\n",
    "trips_df = pd.read_csv('/datasets/project_sql_result_04.csv')\n",
    "data_trip_loop_ohare = pd.read_csv('/datasets/project_sql_result_07.csv')"
   ]
  },
  {
   "cell_type": "markdown",
   "metadata": {},
   "source": [
    "<div class=\"alert alert-block alert-warning\">\n",
    "\n",
    "<b>Comentario del revisor</b> <a class=\"tocSkip\"></a>\n",
    "\n",
    "Recuerda que como buena prática es recomendable cargar todas las bases de datos en una misma celda. Es por ello que te recomiendo cargar la base faltante en esta misma celda..</div>\n",
    "\n"
   ]
  },
  {
   "cell_type": "markdown",
   "metadata": {},
   "source": [
    "<div class=\"alert alert-block alert-success\">\n",
    "<b>Comentario del revisor</b> <a class=\"tocSkip\"></a>\n",
    "\n",
    "Gran trabajo con los ajustes!\n",
    "</div>"
   ]
  },
  {
   "cell_type": "code",
   "execution_count": 3,
   "metadata": {},
   "outputs": [
    {
     "name": "stdout",
     "output_type": "stream",
     "text": [
      "<class 'pandas.core.frame.DataFrame'>\n",
      "RangeIndex: 64 entries, 0 to 63\n",
      "Data columns (total 2 columns):\n",
      " #   Column        Non-Null Count  Dtype \n",
      "---  ------        --------------  ----- \n",
      " 0   company_name  64 non-null     object\n",
      " 1   trips_amount  64 non-null     int64 \n",
      "dtypes: int64(1), object(1)\n",
      "memory usage: 1.1+ KB\n"
     ]
    }
   ],
   "source": [
    "#Obtenemos la información general del dataset donde se muestran las compañías\n",
    "company_df.info()"
   ]
  },
  {
   "cell_type": "code",
   "execution_count": 4,
   "metadata": {},
   "outputs": [
    {
     "data": {
      "text/plain": [
       "company_name    0\n",
       "trips_amount    0\n",
       "dtype: int64"
      ]
     },
     "execution_count": 4,
     "metadata": {},
     "output_type": "execute_result"
    }
   ],
   "source": [
    "#Corroboramos que no existan datos nulos\n",
    "company_df_null = company_df.isna().sum()\n",
    "company_df_null"
   ]
  },
  {
   "cell_type": "code",
   "execution_count": 5,
   "metadata": {},
   "outputs": [
    {
     "data": {
      "text/html": [
       "<div>\n",
       "<style scoped>\n",
       "    .dataframe tbody tr th:only-of-type {\n",
       "        vertical-align: middle;\n",
       "    }\n",
       "\n",
       "    .dataframe tbody tr th {\n",
       "        vertical-align: top;\n",
       "    }\n",
       "\n",
       "    .dataframe thead th {\n",
       "        text-align: right;\n",
       "    }\n",
       "</style>\n",
       "<table border=\"1\" class=\"dataframe\">\n",
       "  <thead>\n",
       "    <tr style=\"text-align: right;\">\n",
       "      <th></th>\n",
       "      <th>company_name</th>\n",
       "      <th>trips_amount</th>\n",
       "    </tr>\n",
       "  </thead>\n",
       "  <tbody>\n",
       "    <tr>\n",
       "      <th>0</th>\n",
       "      <td>Flash Cab</td>\n",
       "      <td>19558</td>\n",
       "    </tr>\n",
       "    <tr>\n",
       "      <th>1</th>\n",
       "      <td>Taxi Affiliation Services</td>\n",
       "      <td>11422</td>\n",
       "    </tr>\n",
       "    <tr>\n",
       "      <th>2</th>\n",
       "      <td>Medallion Leasing</td>\n",
       "      <td>10367</td>\n",
       "    </tr>\n",
       "    <tr>\n",
       "      <th>3</th>\n",
       "      <td>Yellow Cab</td>\n",
       "      <td>9888</td>\n",
       "    </tr>\n",
       "    <tr>\n",
       "      <th>4</th>\n",
       "      <td>Taxi Affiliation Service Yellow</td>\n",
       "      <td>9299</td>\n",
       "    </tr>\n",
       "  </tbody>\n",
       "</table>\n",
       "</div>"
      ],
      "text/plain": [
       "                      company_name  trips_amount\n",
       "0                        Flash Cab         19558\n",
       "1        Taxi Affiliation Services         11422\n",
       "2                Medallion Leasing         10367\n",
       "3                       Yellow Cab          9888\n",
       "4  Taxi Affiliation Service Yellow          9299"
      ]
     },
     "execution_count": 5,
     "metadata": {},
     "output_type": "execute_result"
    }
   ],
   "source": [
    "#Analizamos las columnas que tiene el df de las compañías\n",
    "company_df.head()"
   ]
  },
  {
   "cell_type": "code",
   "execution_count": 6,
   "metadata": {},
   "outputs": [
    {
     "data": {
      "text/html": [
       "<div>\n",
       "<style scoped>\n",
       "    .dataframe tbody tr th:only-of-type {\n",
       "        vertical-align: middle;\n",
       "    }\n",
       "\n",
       "    .dataframe tbody tr th {\n",
       "        vertical-align: top;\n",
       "    }\n",
       "\n",
       "    .dataframe thead th {\n",
       "        text-align: right;\n",
       "    }\n",
       "</style>\n",
       "<table border=\"1\" class=\"dataframe\">\n",
       "  <thead>\n",
       "    <tr style=\"text-align: right;\">\n",
       "      <th></th>\n",
       "      <th>trips_amount</th>\n",
       "    </tr>\n",
       "  </thead>\n",
       "  <tbody>\n",
       "    <tr>\n",
       "      <th>count</th>\n",
       "      <td>64.000000</td>\n",
       "    </tr>\n",
       "    <tr>\n",
       "      <th>mean</th>\n",
       "      <td>2145.484375</td>\n",
       "    </tr>\n",
       "    <tr>\n",
       "      <th>std</th>\n",
       "      <td>3812.310186</td>\n",
       "    </tr>\n",
       "    <tr>\n",
       "      <th>min</th>\n",
       "      <td>2.000000</td>\n",
       "    </tr>\n",
       "    <tr>\n",
       "      <th>25%</th>\n",
       "      <td>20.750000</td>\n",
       "    </tr>\n",
       "    <tr>\n",
       "      <th>50%</th>\n",
       "      <td>178.500000</td>\n",
       "    </tr>\n",
       "    <tr>\n",
       "      <th>75%</th>\n",
       "      <td>2106.500000</td>\n",
       "    </tr>\n",
       "    <tr>\n",
       "      <th>max</th>\n",
       "      <td>19558.000000</td>\n",
       "    </tr>\n",
       "  </tbody>\n",
       "</table>\n",
       "</div>"
      ],
      "text/plain": [
       "       trips_amount\n",
       "count     64.000000\n",
       "mean    2145.484375\n",
       "std     3812.310186\n",
       "min        2.000000\n",
       "25%       20.750000\n",
       "50%      178.500000\n",
       "75%     2106.500000\n",
       "max    19558.000000"
      ]
     },
     "execution_count": 6,
     "metadata": {},
     "output_type": "execute_result"
    }
   ],
   "source": [
    "#Analizamos los datos estadísticos\n",
    "company_df.describe()"
   ]
  },
  {
   "cell_type": "code",
   "execution_count": 7,
   "metadata": {},
   "outputs": [
    {
     "data": {
      "text/plain": [
       "0     False\n",
       "1     False\n",
       "2     False\n",
       "3     False\n",
       "4     False\n",
       "      ...  \n",
       "59    False\n",
       "60    False\n",
       "61    False\n",
       "62    False\n",
       "63    False\n",
       "Length: 64, dtype: bool"
      ]
     },
     "execution_count": 7,
     "metadata": {},
     "output_type": "execute_result"
    }
   ],
   "source": [
    "#Revisamos si existen datos duplicados\n",
    "company_df.duplicated()"
   ]
  },
  {
   "cell_type": "code",
   "execution_count": 8,
   "metadata": {},
   "outputs": [
    {
     "name": "stdout",
     "output_type": "stream",
     "text": [
      "<class 'pandas.core.frame.DataFrame'>\n",
      "RangeIndex: 94 entries, 0 to 93\n",
      "Data columns (total 2 columns):\n",
      " #   Column                 Non-Null Count  Dtype  \n",
      "---  ------                 --------------  -----  \n",
      " 0   dropoff_location_name  94 non-null     object \n",
      " 1   average_trips          94 non-null     float64\n",
      "dtypes: float64(1), object(1)\n",
      "memory usage: 1.6+ KB\n"
     ]
    }
   ],
   "source": [
    "#Analizamos la informacion del dataframe de viajes \n",
    "trips_df.info()"
   ]
  },
  {
   "cell_type": "code",
   "execution_count": 9,
   "metadata": {},
   "outputs": [
    {
     "data": {
      "text/plain": [
       "0     False\n",
       "1     False\n",
       "2     False\n",
       "3     False\n",
       "4     False\n",
       "      ...  \n",
       "89    False\n",
       "90    False\n",
       "91    False\n",
       "92    False\n",
       "93    False\n",
       "Length: 94, dtype: bool"
      ]
     },
     "execution_count": 9,
     "metadata": {},
     "output_type": "execute_result"
    }
   ],
   "source": [
    "#Revisamos si existen datos duplicados en dt de viajes\n",
    "trips_df.duplicated()"
   ]
  },
  {
   "cell_type": "code",
   "execution_count": 10,
   "metadata": {},
   "outputs": [
    {
     "data": {
      "text/plain": [
       "dropoff_location_name    0\n",
       "average_trips            0\n",
       "dtype: int64"
      ]
     },
     "execution_count": 10,
     "metadata": {},
     "output_type": "execute_result"
    }
   ],
   "source": [
    "#Corroboramos que no existan datos nulos\n",
    "trips_df_null = trips_df.isna().sum()\n",
    "trips_df_null"
   ]
  },
  {
   "cell_type": "code",
   "execution_count": 11,
   "metadata": {},
   "outputs": [
    {
     "data": {
      "text/html": [
       "<div>\n",
       "<style scoped>\n",
       "    .dataframe tbody tr th:only-of-type {\n",
       "        vertical-align: middle;\n",
       "    }\n",
       "\n",
       "    .dataframe tbody tr th {\n",
       "        vertical-align: top;\n",
       "    }\n",
       "\n",
       "    .dataframe thead th {\n",
       "        text-align: right;\n",
       "    }\n",
       "</style>\n",
       "<table border=\"1\" class=\"dataframe\">\n",
       "  <thead>\n",
       "    <tr style=\"text-align: right;\">\n",
       "      <th></th>\n",
       "      <th>dropoff_location_name</th>\n",
       "      <th>average_trips</th>\n",
       "    </tr>\n",
       "  </thead>\n",
       "  <tbody>\n",
       "    <tr>\n",
       "      <th>0</th>\n",
       "      <td>Loop</td>\n",
       "      <td>10727.466667</td>\n",
       "    </tr>\n",
       "    <tr>\n",
       "      <th>1</th>\n",
       "      <td>River North</td>\n",
       "      <td>9523.666667</td>\n",
       "    </tr>\n",
       "    <tr>\n",
       "      <th>2</th>\n",
       "      <td>Streeterville</td>\n",
       "      <td>6664.666667</td>\n",
       "    </tr>\n",
       "    <tr>\n",
       "      <th>3</th>\n",
       "      <td>West Loop</td>\n",
       "      <td>5163.666667</td>\n",
       "    </tr>\n",
       "    <tr>\n",
       "      <th>4</th>\n",
       "      <td>O'Hare</td>\n",
       "      <td>2546.900000</td>\n",
       "    </tr>\n",
       "    <tr>\n",
       "      <th>5</th>\n",
       "      <td>Lake View</td>\n",
       "      <td>2420.966667</td>\n",
       "    </tr>\n",
       "    <tr>\n",
       "      <th>6</th>\n",
       "      <td>Grant Park</td>\n",
       "      <td>2068.533333</td>\n",
       "    </tr>\n",
       "    <tr>\n",
       "      <th>7</th>\n",
       "      <td>Museum Campus</td>\n",
       "      <td>1510.000000</td>\n",
       "    </tr>\n",
       "    <tr>\n",
       "      <th>8</th>\n",
       "      <td>Gold Coast</td>\n",
       "      <td>1364.233333</td>\n",
       "    </tr>\n",
       "    <tr>\n",
       "      <th>9</th>\n",
       "      <td>Sheffield &amp; DePaul</td>\n",
       "      <td>1259.766667</td>\n",
       "    </tr>\n",
       "  </tbody>\n",
       "</table>\n",
       "</div>"
      ],
      "text/plain": [
       "  dropoff_location_name  average_trips\n",
       "0                  Loop   10727.466667\n",
       "1           River North    9523.666667\n",
       "2         Streeterville    6664.666667\n",
       "3             West Loop    5163.666667\n",
       "4                O'Hare    2546.900000\n",
       "5             Lake View    2420.966667\n",
       "6            Grant Park    2068.533333\n",
       "7         Museum Campus    1510.000000\n",
       "8            Gold Coast    1364.233333\n",
       "9    Sheffield & DePaul    1259.766667"
      ]
     },
     "execution_count": 11,
     "metadata": {},
     "output_type": "execute_result"
    }
   ],
   "source": [
    "#Checamos las columnas del DF de viajes\n",
    "trips_df.head(10)"
   ]
  },
  {
   "cell_type": "code",
   "execution_count": 12,
   "metadata": {},
   "outputs": [],
   "source": [
    "#Pasamos los datos de average_trips a dato entero\n",
    "trips_df['average_trips'] = trips_df['average_trips'].astype(int)"
   ]
  },
  {
   "cell_type": "code",
   "execution_count": 13,
   "metadata": {},
   "outputs": [
    {
     "name": "stdout",
     "output_type": "stream",
     "text": [
      "<class 'pandas.core.frame.DataFrame'>\n",
      "RangeIndex: 94 entries, 0 to 93\n",
      "Data columns (total 2 columns):\n",
      " #   Column                 Non-Null Count  Dtype \n",
      "---  ------                 --------------  ----- \n",
      " 0   dropoff_location_name  94 non-null     object\n",
      " 1   average_trips          94 non-null     int64 \n",
      "dtypes: int64(1), object(1)\n",
      "memory usage: 1.6+ KB\n"
     ]
    }
   ],
   "source": [
    "#Corroboramos que los datos se modificaran de flotante a entero en la columna average_trips\n",
    "trips_df.info()"
   ]
  },
  {
   "cell_type": "code",
   "execution_count": 14,
   "metadata": {},
   "outputs": [
    {
     "name": "stdout",
     "output_type": "stream",
     "text": [
      "<class 'pandas.core.frame.DataFrame'>\n",
      "RangeIndex: 1068 entries, 0 to 1067\n",
      "Data columns (total 3 columns):\n",
      " #   Column              Non-Null Count  Dtype  \n",
      "---  ------              --------------  -----  \n",
      " 0   start_ts            1068 non-null   object \n",
      " 1   weather_conditions  1068 non-null   object \n",
      " 2   duration_seconds    1068 non-null   float64\n",
      "dtypes: float64(1), object(2)\n",
      "memory usage: 25.2+ KB\n"
     ]
    }
   ],
   "source": [
    "#Procedemos a analizar la información de los viajes del loop al aeropuerto Internacional O´hare\n",
    "data_trip_loop_ohare.info()"
   ]
  },
  {
   "cell_type": "code",
   "execution_count": 15,
   "metadata": {},
   "outputs": [
    {
     "data": {
      "text/plain": [
       "0       False\n",
       "1       False\n",
       "2       False\n",
       "3       False\n",
       "4       False\n",
       "        ...  \n",
       "1063    False\n",
       "1064    False\n",
       "1065     True\n",
       "1066     True\n",
       "1067    False\n",
       "Length: 1068, dtype: bool"
      ]
     },
     "execution_count": 15,
     "metadata": {},
     "output_type": "execute_result"
    }
   ],
   "source": [
    "data_trip_loop_ohare.duplicated()"
   ]
  },
  {
   "cell_type": "code",
   "execution_count": 16,
   "metadata": {},
   "outputs": [
    {
     "data": {
      "text/html": [
       "<div>\n",
       "<style scoped>\n",
       "    .dataframe tbody tr th:only-of-type {\n",
       "        vertical-align: middle;\n",
       "    }\n",
       "\n",
       "    .dataframe tbody tr th {\n",
       "        vertical-align: top;\n",
       "    }\n",
       "\n",
       "    .dataframe thead th {\n",
       "        text-align: right;\n",
       "    }\n",
       "</style>\n",
       "<table border=\"1\" class=\"dataframe\">\n",
       "  <thead>\n",
       "    <tr style=\"text-align: right;\">\n",
       "      <th></th>\n",
       "      <th>start_ts</th>\n",
       "      <th>weather_conditions</th>\n",
       "      <th>duration_seconds</th>\n",
       "    </tr>\n",
       "  </thead>\n",
       "  <tbody>\n",
       "    <tr>\n",
       "      <th>730</th>\n",
       "      <td>2017-11-11 13:00:00</td>\n",
       "      <td>Good</td>\n",
       "      <td>2280.0</td>\n",
       "    </tr>\n",
       "    <tr>\n",
       "      <th>432</th>\n",
       "      <td>2017-11-11 07:00:00</td>\n",
       "      <td>Good</td>\n",
       "      <td>1419.0</td>\n",
       "    </tr>\n",
       "    <tr>\n",
       "      <th>740</th>\n",
       "      <td>2017-11-11 16:00:00</td>\n",
       "      <td>Good</td>\n",
       "      <td>2220.0</td>\n",
       "    </tr>\n",
       "    <tr>\n",
       "      <th>997</th>\n",
       "      <td>2017-11-11 12:00:00</td>\n",
       "      <td>Good</td>\n",
       "      <td>1990.0</td>\n",
       "    </tr>\n",
       "    <tr>\n",
       "      <th>777</th>\n",
       "      <td>2017-11-11 09:00:00</td>\n",
       "      <td>Good</td>\n",
       "      <td>1494.0</td>\n",
       "    </tr>\n",
       "  </tbody>\n",
       "</table>\n",
       "</div>"
      ],
      "text/plain": [
       "                start_ts weather_conditions  duration_seconds\n",
       "730  2017-11-11 13:00:00               Good            2280.0\n",
       "432  2017-11-11 07:00:00               Good            1419.0\n",
       "740  2017-11-11 16:00:00               Good            2220.0\n",
       "997  2017-11-11 12:00:00               Good            1990.0\n",
       "777  2017-11-11 09:00:00               Good            1494.0"
      ]
     },
     "execution_count": 16,
     "metadata": {},
     "output_type": "execute_result"
    }
   ],
   "source": [
    "#Analizamos las columnas que tenemos\n",
    "data_trip_loop_ohare.sample(5)"
   ]
  },
  {
   "cell_type": "code",
   "execution_count": 17,
   "metadata": {},
   "outputs": [
    {
     "data": {
      "text/html": [
       "<div>\n",
       "<style scoped>\n",
       "    .dataframe tbody tr th:only-of-type {\n",
       "        vertical-align: middle;\n",
       "    }\n",
       "\n",
       "    .dataframe tbody tr th {\n",
       "        vertical-align: top;\n",
       "    }\n",
       "\n",
       "    .dataframe thead th {\n",
       "        text-align: right;\n",
       "    }\n",
       "</style>\n",
       "<table border=\"1\" class=\"dataframe\">\n",
       "  <thead>\n",
       "    <tr style=\"text-align: right;\">\n",
       "      <th></th>\n",
       "      <th>duration_seconds</th>\n",
       "    </tr>\n",
       "  </thead>\n",
       "  <tbody>\n",
       "    <tr>\n",
       "      <th>count</th>\n",
       "      <td>1068.000000</td>\n",
       "    </tr>\n",
       "    <tr>\n",
       "      <th>mean</th>\n",
       "      <td>2071.731273</td>\n",
       "    </tr>\n",
       "    <tr>\n",
       "      <th>std</th>\n",
       "      <td>769.461125</td>\n",
       "    </tr>\n",
       "    <tr>\n",
       "      <th>min</th>\n",
       "      <td>0.000000</td>\n",
       "    </tr>\n",
       "    <tr>\n",
       "      <th>25%</th>\n",
       "      <td>1438.250000</td>\n",
       "    </tr>\n",
       "    <tr>\n",
       "      <th>50%</th>\n",
       "      <td>1980.000000</td>\n",
       "    </tr>\n",
       "    <tr>\n",
       "      <th>75%</th>\n",
       "      <td>2580.000000</td>\n",
       "    </tr>\n",
       "    <tr>\n",
       "      <th>max</th>\n",
       "      <td>7440.000000</td>\n",
       "    </tr>\n",
       "  </tbody>\n",
       "</table>\n",
       "</div>"
      ],
      "text/plain": [
       "       duration_seconds\n",
       "count       1068.000000\n",
       "mean        2071.731273\n",
       "std          769.461125\n",
       "min            0.000000\n",
       "25%         1438.250000\n",
       "50%         1980.000000\n",
       "75%         2580.000000\n",
       "max         7440.000000"
      ]
     },
     "execution_count": 17,
     "metadata": {},
     "output_type": "execute_result"
    }
   ],
   "source": [
    "#Obtenemos la información estadística \n",
    "data_trip_loop_ohare.describe()"
   ]
  },
  {
   "cell_type": "markdown",
   "metadata": {},
   "source": [
    "<div class=\"alert alert-block alert-danger\">\n",
    "\n",
    "<b>Comentario del revisor</b> <a class=\"tocSkip\"></a>\n",
    "\n",
    "Para estos análisis iniciales te recomiendo verificar si contamos con registros duplicados</div>\n",
    "\n"
   ]
  },
  {
   "cell_type": "markdown",
   "metadata": {},
   "source": [
    "<div class=\"alert alert-block alert-info\">\n",
    "<b>Respuesta del estudiante.</b> <a class=\"tocSkip\"></a>\n",
    "  \n",
    " Agregué el DataFrame a la casilla que sugeriste y corroboré que no existieran duplicados en ninguna fila"
   ]
  },
  {
   "cell_type": "markdown",
   "metadata": {},
   "source": [
    "<div class=\"alert alert-block alert-success\">\n",
    "<b>Comentario del revisor</b> <a class=\"tocSkip\"></a>\n",
    "\n",
    "Gran trabajo con los ajustes!\n",
    "</div>"
   ]
  },
  {
   "cell_type": "markdown",
   "metadata": {},
   "source": [
    "<div style=\"background-color: lightblue; padding: 10px; border-radius: 5px;\">\n",
    "Como hemos observado, no existen inconsistencias en los datos, como mezcla de mayúsculas y minúsculas o valores nulos. Los datos están correctamente almacenados, solo fue necesario corregir el valor promedio (average) a un entero, los demás están en formatos correctos. "
   ]
  },
  {
   "cell_type": "markdown",
   "metadata": {},
   "source": [
    "Ahora, procederemos a identificar las 10 principales compañías y barrios en términos de finalización de recorridos. Mostraremos gráficos que representen el número de viajes por compañía de taxis y los 10 principales barrios según el número de viajes."
   ]
  },
  {
   "cell_type": "code",
   "execution_count": 18,
   "metadata": {},
   "outputs": [
    {
     "data": {
      "text/html": [
       "<div>\n",
       "<style scoped>\n",
       "    .dataframe tbody tr th:only-of-type {\n",
       "        vertical-align: middle;\n",
       "    }\n",
       "\n",
       "    .dataframe tbody tr th {\n",
       "        vertical-align: top;\n",
       "    }\n",
       "\n",
       "    .dataframe thead th {\n",
       "        text-align: right;\n",
       "    }\n",
       "</style>\n",
       "<table border=\"1\" class=\"dataframe\">\n",
       "  <thead>\n",
       "    <tr style=\"text-align: right;\">\n",
       "      <th></th>\n",
       "      <th>company_name</th>\n",
       "      <th>trips_amount</th>\n",
       "    </tr>\n",
       "  </thead>\n",
       "  <tbody>\n",
       "    <tr>\n",
       "      <th>0</th>\n",
       "      <td>Flash Cab</td>\n",
       "      <td>19558</td>\n",
       "    </tr>\n",
       "    <tr>\n",
       "      <th>1</th>\n",
       "      <td>Taxi Affiliation Services</td>\n",
       "      <td>11422</td>\n",
       "    </tr>\n",
       "    <tr>\n",
       "      <th>2</th>\n",
       "      <td>Medallion Leasing</td>\n",
       "      <td>10367</td>\n",
       "    </tr>\n",
       "    <tr>\n",
       "      <th>3</th>\n",
       "      <td>Yellow Cab</td>\n",
       "      <td>9888</td>\n",
       "    </tr>\n",
       "    <tr>\n",
       "      <th>4</th>\n",
       "      <td>Taxi Affiliation Service Yellow</td>\n",
       "      <td>9299</td>\n",
       "    </tr>\n",
       "    <tr>\n",
       "      <th>5</th>\n",
       "      <td>Chicago Carriage Cab Corp</td>\n",
       "      <td>9181</td>\n",
       "    </tr>\n",
       "    <tr>\n",
       "      <th>6</th>\n",
       "      <td>City Service</td>\n",
       "      <td>8448</td>\n",
       "    </tr>\n",
       "    <tr>\n",
       "      <th>7</th>\n",
       "      <td>Sun Taxi</td>\n",
       "      <td>7701</td>\n",
       "    </tr>\n",
       "    <tr>\n",
       "      <th>8</th>\n",
       "      <td>Star North Management LLC</td>\n",
       "      <td>7455</td>\n",
       "    </tr>\n",
       "    <tr>\n",
       "      <th>9</th>\n",
       "      <td>Blue Ribbon Taxi Association Inc.</td>\n",
       "      <td>5953</td>\n",
       "    </tr>\n",
       "  </tbody>\n",
       "</table>\n",
       "</div>"
      ],
      "text/plain": [
       "                        company_name  trips_amount\n",
       "0                          Flash Cab         19558\n",
       "1          Taxi Affiliation Services         11422\n",
       "2                  Medallion Leasing         10367\n",
       "3                         Yellow Cab          9888\n",
       "4    Taxi Affiliation Service Yellow          9299\n",
       "5          Chicago Carriage Cab Corp          9181\n",
       "6                       City Service          8448\n",
       "7                           Sun Taxi          7701\n",
       "8          Star North Management LLC          7455\n",
       "9  Blue Ribbon Taxi Association Inc.          5953"
      ]
     },
     "execution_count": 18,
     "metadata": {},
     "output_type": "execute_result"
    }
   ],
   "source": [
    "#Crearemos un DataFrame que muestre las 10 compañías con mayor cantidad de viajes realizados\n",
    "top_10_company = company_df.sort_values('trips_amount', ascending=False).head(10)\n",
    "top_10_company"
   ]
  },
  {
   "cell_type": "code",
   "execution_count": 19,
   "metadata": {},
   "outputs": [],
   "source": [
    "#Establecemos 'company_name' como el índice del DataFrame para facilitar el acceso y la visualización de las compañías.\n",
    "top_10_company = top_10_company.set_index('company_name')"
   ]
  },
  {
   "cell_type": "code",
   "execution_count": 20,
   "metadata": {},
   "outputs": [
    {
     "data": {
      "image/png": "[encoded data removed]",
      "text/plain": [
       "<Figure size 640x480 with 1 Axes>"
      ]
     },
     "metadata": {},
     "output_type": "display_data"
    }
   ],
   "source": [
    "#Generamos el gráfico para visualizar mejor los datos.\n",
    "top_10_company.plot(kind='barh', color='orange').set_title('Número de Viajes por Empresa de Taxis')\n",
    "\n",
    "plt.ylabel('Empresa')\n",
    "plt.xlabel('Número de Viajes')\n",
    "plt.show()"
   ]
  },
  {
   "cell_type": "markdown",
   "metadata": {},
   "source": [
    "<div class=\"alert alert-block alert-success\">\n",
    "\n",
    "<b>Comentario del revisor</b> <a class=\"tocSkip\"></a>\n",
    "\n",
    "Excelente trabajo con el desarrollo de este análisis, muestras de manera clara cuales son los 10 principales barrios en términos de finalización del recorrido\n",
    "    </div>"
   ]
  },
  {
   "cell_type": "code",
   "execution_count": 21,
   "metadata": {},
   "outputs": [
    {
     "data": {
      "image/png": "[encoded data removed]",
      "text/plain": [
       "<Figure size 640x480 with 1 Axes>"
      ]
     },
     "metadata": {},
     "output_type": "display_data"
    }
   ],
   "source": [
    "#Generamos un diagrama de caja para analizar el promedio por número de viajes \n",
    "plt.boxplot(trips_df['average_trips'])\n",
    "plt.show()"
   ]
  },
  {
   "cell_type": "markdown",
   "metadata": {},
   "source": [
    "<div style=\"background-color: lightblue; padding: 10px; border-radius: 5px;\">\n",
    "Como podemos ver en la gráfica, Flash Cab es la empresa que realiza más viajes, seguida de Taxi Affiliation Services y Medallion Leasing.\n",
    "  \n",
    "\n",
    "    \n",
    "    \n",
    "El diagrama de caja anterior es una muestra preliminar en la que podemos observar la presencia de datos atípicos (outliers), lo cual podría deberse a que algunos barrios en Chicago tienen una demanda de taxis significativamente mayor que otros. Posteriormente, procederemos a eliminar estos outliers para obtener un análisis más preciso y evitar que distorsionen los resultados estadísticos."
   ]
  },
  {
   "cell_type": "code",
   "execution_count": 22,
   "metadata": {},
   "outputs": [
    {
     "data": {
      "text/html": [
       "<div>\n",
       "<style scoped>\n",
       "    .dataframe tbody tr th:only-of-type {\n",
       "        vertical-align: middle;\n",
       "    }\n",
       "\n",
       "    .dataframe tbody tr th {\n",
       "        vertical-align: top;\n",
       "    }\n",
       "\n",
       "    .dataframe thead th {\n",
       "        text-align: right;\n",
       "    }\n",
       "</style>\n",
       "<table border=\"1\" class=\"dataframe\">\n",
       "  <thead>\n",
       "    <tr style=\"text-align: right;\">\n",
       "      <th></th>\n",
       "      <th>dropoff_location_name</th>\n",
       "      <th>average_trips</th>\n",
       "    </tr>\n",
       "  </thead>\n",
       "  <tbody>\n",
       "    <tr>\n",
       "      <th>0</th>\n",
       "      <td>Loop</td>\n",
       "      <td>10727</td>\n",
       "    </tr>\n",
       "    <tr>\n",
       "      <th>1</th>\n",
       "      <td>River North</td>\n",
       "      <td>9523</td>\n",
       "    </tr>\n",
       "    <tr>\n",
       "      <th>2</th>\n",
       "      <td>Streeterville</td>\n",
       "      <td>6664</td>\n",
       "    </tr>\n",
       "    <tr>\n",
       "      <th>3</th>\n",
       "      <td>West Loop</td>\n",
       "      <td>5163</td>\n",
       "    </tr>\n",
       "    <tr>\n",
       "      <th>4</th>\n",
       "      <td>O'Hare</td>\n",
       "      <td>2546</td>\n",
       "    </tr>\n",
       "    <tr>\n",
       "      <th>5</th>\n",
       "      <td>Lake View</td>\n",
       "      <td>2420</td>\n",
       "    </tr>\n",
       "    <tr>\n",
       "      <th>6</th>\n",
       "      <td>Grant Park</td>\n",
       "      <td>2068</td>\n",
       "    </tr>\n",
       "    <tr>\n",
       "      <th>7</th>\n",
       "      <td>Museum Campus</td>\n",
       "      <td>1510</td>\n",
       "    </tr>\n",
       "    <tr>\n",
       "      <th>8</th>\n",
       "      <td>Gold Coast</td>\n",
       "      <td>1364</td>\n",
       "    </tr>\n",
       "    <tr>\n",
       "      <th>9</th>\n",
       "      <td>Sheffield &amp; DePaul</td>\n",
       "      <td>1259</td>\n",
       "    </tr>\n",
       "  </tbody>\n",
       "</table>\n",
       "</div>"
      ],
      "text/plain": [
       "  dropoff_location_name  average_trips\n",
       "0                  Loop          10727\n",
       "1           River North           9523\n",
       "2         Streeterville           6664\n",
       "3             West Loop           5163\n",
       "4                O'Hare           2546\n",
       "5             Lake View           2420\n",
       "6            Grant Park           2068\n",
       "7         Museum Campus           1510\n",
       "8            Gold Coast           1364\n",
       "9    Sheffield & DePaul           1259"
      ]
     },
     "execution_count": 22,
     "metadata": {},
     "output_type": "execute_result"
    }
   ],
   "source": [
    "#Realizamos un DF para poder ver el top 10 de destinos\n",
    "top_10_destinos = trips_df.sort_values('average_trips', ascending=False).head(10)\n",
    "top_10_destinos"
   ]
  },
  {
   "cell_type": "code",
   "execution_count": 23,
   "metadata": {},
   "outputs": [],
   "source": [
    "#Establecemos 'dropoff_location_name' como el índice del DataFrame \n",
    "top_10_destinos.set_index('dropoff_location_name', inplace=True)"
   ]
  },
  {
   "cell_type": "code",
   "execution_count": 24,
   "metadata": {},
   "outputs": [
    {
     "data": {
      "image/png": "[encoded data removed]",
      "text/plain": [
       "<Figure size 640x480 with 1 Axes>"
      ]
     },
     "metadata": {},
     "output_type": "display_data"
    }
   ],
   "source": [
    "#Graficamos para visualizar los barrios con mas viajes\n",
    "top_10_destinos.plot(kind='barh', color='skyblue').set_title('Promedio de Viajes por Destino')\n",
    "plt.ylabel('Destino')\n",
    "plt.xlabel('Número de Viajes')\n",
    "plt.show()"
   ]
  },
  {
   "cell_type": "markdown",
   "metadata": {},
   "source": [
    "<div class=\"alert alert-block alert-success\">\n",
    "\n",
    "<b>Comentario del revisor</b> <a class=\"tocSkip\"></a>\n",
    "\n",
    "Excelente trabajo con el desarrollo de este análisis y lo complementaste con una gráfica.\n",
    "    </div>"
   ]
  },
  {
   "cell_type": "markdown",
   "metadata": {},
   "source": [
    "<div style=\"background-color: lightblue; padding: 10px; border-radius: 5px;\">\n",
    "\n",
    "A partir de la información presentada, podemos observar que los barrios con el mayor número de viajes son Loop, River North y Streeterville. Esto puede atribuirse a su ubicación central, que los convierte en destinos turísticos populares y áreas donde se concentran numerosas oficinas. En Chicago, existen 94 barrios y la alta concentración de viajes en estos tres lugares puede generar valores atípicos, lo que se refleja en el diagrama de caja.\n",
    "\n",
    "En cuanto a las compañías de taxis, las que realizan la mayor cantidad de viajes son Flash Cab, seguidas por Taxi Affiliation Services y Medallion Leasing."
   ]
  },
  {
   "cell_type": "markdown",
   "metadata": {},
   "source": [
    "\n",
    "Para llevar a cabo la comprobación de hipótesis, comenzaremos importando la información necesaria y realizando un análisis preliminar. En el siguiente DataFrame, se presenta la información esencial para analizar los viajes desde el Loop hasta el Aeropuerto Internacional O'Hare."
   ]
  },
  {
   "cell_type": "code",
   "execution_count": 25,
   "metadata": {},
   "outputs": [
    {
     "data": {
      "image/png": "[encoded data removed]",
      "text/plain": [
       "<Figure size 640x480 with 1 Axes>"
      ]
     },
     "metadata": {},
     "output_type": "display_data"
    }
   ],
   "source": [
    "# Se genera un diagrama de caja para visualizar la duración de los viajes en segundos según las condiciones climáticas.\n",
    "sns.boxplot(x='duration_seconds',y='weather_conditions', data=data_trip_loop_ohare)\n",
    "plt.show()"
   ]
  },
  {
   "cell_type": "markdown",
   "metadata": {},
   "source": [
    "<div style=\"background-color: lightblue; padding: 10px; border-radius: 5px;\">\n",
    "Al igual que en el diagrama de caja de los viajes, también podemos observar la presencia de valores atípicos en la duración de los viajes. Estos outliers pueden deberse a factores como condiciones de tráfico inusuales o barrios en Chicago con alta demanda de taxis. Para garantizar que nuestra comprobación de hipótesis no se vea afectada por estas anomalías, procederemos a eliminarlos."
   ]
  },
  {
   "cell_type": "code",
   "execution_count": 26,
   "metadata": {},
   "outputs": [],
   "source": [
    "# Se calcula el primer cuartil (Q1) de la duración de los viajes en segundos\n",
    "Q1 = data_trip_loop_ohare['duration_seconds'].quantile(0.25)"
   ]
  },
  {
   "cell_type": "code",
   "execution_count": 27,
   "metadata": {},
   "outputs": [],
   "source": [
    "# Se calcula el tercer cuartil (Q3) de la duración de los viajes en segundos\n",
    "Q3 = data_trip_loop_ohare['duration_seconds'].quantile(0.75)"
   ]
  },
  {
   "cell_type": "code",
   "execution_count": 28,
   "metadata": {},
   "outputs": [],
   "source": [
    "# Se calcula el rango intercuartílico (IQR) restando el primer cuartil (Q1) del tercer cuartil (Q3) \n",
    "# para identificar la dispersión de los datos.\n",
    "IQR = Q3 - Q1"
   ]
  },
  {
   "cell_type": "code",
   "execution_count": 29,
   "metadata": {},
   "outputs": [
    {
     "data": {
      "text/plain": [
       "4292.625"
      ]
     },
     "execution_count": 29,
     "metadata": {},
     "output_type": "execute_result"
    }
   ],
   "source": [
    "# Se calcula el límite superior para identificar outliers.\n",
    "limite_superior = Q3 + (1.5*IQR)\n",
    "limite_superior"
   ]
  },
  {
   "cell_type": "markdown",
   "metadata": {},
   "source": [
    "Prueba de Hipótesis\n",
    "Hipótesis: \"La duración promedio de los viajes desde el Loop hasta el Aeropuerto Internacional O'Hare cambia los sábados lluviosos.\"\n",
    "\n",
    "Nivel de significación (α): Para este análisis, se establecerá un nivel de significación de 0.05. Este valor es comúnmente utilizado en estudios estadísticos y permite un equilibrio adecuado entre la detección de diferencias significativas.\n",
    "\n",
    "Hipótesis\n",
    "Hipótesis nula (H₀): La duración promedio de los viajes en sábados lluviosos es igual a la duración promedio en días sin lluvia.\n",
    "\n",
    "Hipótesis alternativa (H₁): La duración promedio de los viajes en sábados lluviosos es diferente a la duración promedio en días sin lluvia."
   ]
  },
  {
   "cell_type": "code",
   "execution_count": 30,
   "metadata": {},
   "outputs": [
    {
     "data": {
      "text/html": [
       "<div>\n",
       "<style scoped>\n",
       "    .dataframe tbody tr th:only-of-type {\n",
       "        vertical-align: middle;\n",
       "    }\n",
       "\n",
       "    .dataframe tbody tr th {\n",
       "        vertical-align: top;\n",
       "    }\n",
       "\n",
       "    .dataframe thead th {\n",
       "        text-align: right;\n",
       "    }\n",
       "</style>\n",
       "<table border=\"1\" class=\"dataframe\">\n",
       "  <thead>\n",
       "    <tr style=\"text-align: right;\">\n",
       "      <th></th>\n",
       "      <th>start_ts</th>\n",
       "      <th>weather_conditions</th>\n",
       "      <th>duration_seconds</th>\n",
       "    </tr>\n",
       "  </thead>\n",
       "  <tbody>\n",
       "    <tr>\n",
       "      <th>0</th>\n",
       "      <td>2017-11-25 16:00:00</td>\n",
       "      <td>Good</td>\n",
       "      <td>2410.0</td>\n",
       "    </tr>\n",
       "    <tr>\n",
       "      <th>1</th>\n",
       "      <td>2017-11-25 14:00:00</td>\n",
       "      <td>Good</td>\n",
       "      <td>1920.0</td>\n",
       "    </tr>\n",
       "    <tr>\n",
       "      <th>2</th>\n",
       "      <td>2017-11-25 12:00:00</td>\n",
       "      <td>Good</td>\n",
       "      <td>1543.0</td>\n",
       "    </tr>\n",
       "    <tr>\n",
       "      <th>3</th>\n",
       "      <td>2017-11-04 10:00:00</td>\n",
       "      <td>Good</td>\n",
       "      <td>2512.0</td>\n",
       "    </tr>\n",
       "    <tr>\n",
       "      <th>4</th>\n",
       "      <td>2017-11-11 07:00:00</td>\n",
       "      <td>Good</td>\n",
       "      <td>1440.0</td>\n",
       "    </tr>\n",
       "  </tbody>\n",
       "</table>\n",
       "</div>"
      ],
      "text/plain": [
       "              start_ts weather_conditions  duration_seconds\n",
       "0  2017-11-25 16:00:00               Good            2410.0\n",
       "1  2017-11-25 14:00:00               Good            1920.0\n",
       "2  2017-11-25 12:00:00               Good            1543.0\n",
       "3  2017-11-04 10:00:00               Good            2512.0\n",
       "4  2017-11-11 07:00:00               Good            1440.0"
      ]
     },
     "execution_count": 30,
     "metadata": {},
     "output_type": "execute_result"
    }
   ],
   "source": [
    "# Filtramos los datos para eliminar los outliers, manteniendo solo las observaciones donde \n",
    "# la duración de los viajes es menor o igual al límite superior establecido.\n",
    "\n",
    "data_hipotesis = data_trip_loop_ohare.query('duration_seconds <= @limite_superior')\n",
    "data_hipotesis.head()"
   ]
  },
  {
   "cell_type": "code",
   "execution_count": 31,
   "metadata": {},
   "outputs": [
    {
     "data": {
      "image/png": "[encoded data removed]",
      "text/plain": [
       "<Figure size 640x480 with 1 Axes>"
      ]
     },
     "metadata": {},
     "output_type": "display_data"
    }
   ],
   "source": [
    "#Realizamos diagrama utilizando los datos filtrados sin outliers.\n",
    "sns.boxplot(x='duration_seconds', y='weather_conditions', data=data_hipotesis)\n",
    "plt.show()"
   ]
  },
  {
   "cell_type": "code",
   "execution_count": null,
   "metadata": {},
   "outputs": [],
   "source": [
    "#procedemos a usar levene para analizar las varianzas entre ambas hipotesis\n",
    "results_levene = st.levene(sample.duration_seconds, rain_sample.duration_seconds)\n",
    "print(f\"Valor p de la prueba de Levene: {results_levene.pvalue:f}\")\n",
    "if results_levene.pvalue > 0.05:\n",
    "    print(\"No se rechaza la hipótesis nula de igualdad de varianzas. Esto sugiere que las varianzas de las duraciones de los viajes en días buenos y malos son homogéneas, permitiendo el uso de la prueba t de Student convencional para comparar las medias.\")\n",
    "else:\n",
    "    print(\"Se rechaza la hipótesis nula de igualdad de varianzas. Esto sugiere que las varianzas son diferentes, lo que podría requerir un enfoque diferente para la comparación de medias.\")\n"
   ]
  },
  {
   "cell_type": "markdown",
   "metadata": {},
   "source": [
    "<div class=\"alert alert-block alert-success\">\n",
    "<b>Comentario del revisor</b> <a class=\"tocSkip\"></a>\n",
    "\n",
    "Gran trabajo con los ajustes!\n",
    "</div>"
   ]
  },
  {
   "cell_type": "markdown",
   "metadata": {},
   "source": [
    "Debido a la igualdad de varianzas, procederemos a realizar la prueba de ttest regular."
   ]
  },
  {
   "cell_type": "code",
   "execution_count": null,
   "metadata": {},
   "outputs": [],
   "source": [
    "alpha = 0.05\n",
    "sample = data_hipotesis.query('weather_conditions == \"Good\"')\n",
    "rain_sample = data_hipotesis.query('weather_conditions == \"Bad\"')\n",
    "\n",
    "results = st.ttest_ind(sample.duration_seconds, rain_sample.duration_seconds)\n",
    "# Imprimimos el valor p para evaluar la hipótesis\n",
    "print(f\"Valor p de la prueba t: {results.pvalue:f}\")\n",
    "\n",
    "# Evaluamos las hipótesis\n",
    "if results.pvalue < alpha:\n",
    "    print(\"Se rechaza la hipótesis nula (H₀): la duración promedio de los viajes en sábados lluviosos es diferente a la duración promedio en días sin lluvia.\")\n",
    "else:\n",
    "    print(\"No se rechaza la hipótesis nula (H₀): no hay evidencia suficiente para afirmar que la duración promedio de los viajes en sábados lluviosos es diferente a la duración promedio en días sin lluvia.\")"
   ]
  },
  {
   "cell_type": "markdown",
   "metadata": {},
   "source": [
    "<div style=\"background-color: lightblue; padding: 10px; border-radius: 5px;\">\n",
    "Existe una diferencia estadísticamente significativa entre la duración promedio de los viajes en sábados lluviosos y en días sin lluvia. En otras palabras, podemos rechazar la hipótesis nula (H₀) que sostiene que no hay diferencias en las duraciones de los viajes y aceptar la hipótesis alternativa (H₁), que sugiere que la duración promedio de los viajes en días lluviosos es diferente."
   ]
  },
  {
   "cell_type": "markdown",
   "metadata": {},
   "source": [
    "<div class=\"alert alert-block alert-success\">\n",
    "\n",
    "<b>Comentario del revisor</b> <a class=\"tocSkip\"></a>\n",
    "\n",
    "Excelente trabajo con la prueba de levene! Solamente recuerda que primero realizamos esta prueba y el resultado lo usamos dentro como argumento de la prueba de igualdad de medias\n",
    "    </div>"
   ]
  },
  {
   "cell_type": "markdown",
   "metadata": {},
   "source": [
    "Conclusión y Recomendaciones \n",
    "\n",
    "El análisis realizado sobre la duración de los viajes en taxi desde el Loop hasta el Aeropuerto Internacional O'Hare en días lluviosos ha revelado una variación significativa en los tiempos de viaje en comparación con días sin lluvia. Los resultados de la prueba de hipótesis indican que la duración promedio de los viajes es, efectivamente, diferente en condiciones climáticas adversas, lo que sugiere un impacto notable del clima en la experiencia del usuario.\n",
    "\n",
    "Además, se identificaron los barrios con mayor demanda de taxis, lo que puede ayudar a optimizar la asignación de vehículos y recursos en estos sectores. La identificación de las compañías de taxis más activas también proporciona información valiosa para mejorar la eficiencia operativa.\n",
    "\n",
    "Las recomendaciones propuestas, que incluyen la optimización de rutas, incentivos para conductores, un sistema de monitoreo en tiempo real y una mejor comunicación con los usuarios, tienen el potencial de mejorar significativamente el servicio de taxis en Chicago. Implementar estas estrategias no solo beneficiaría a los conductores, sino que también aumentaría la satisfacción del cliente, especialmente en días lluviosos cuando la demanda puede ser alta.\n",
    "\n",
    "En resumen, este estudio destaca la necesidad de adaptarse a las condiciones climáticas cambiantes y sugiere que las empresas de taxis deben estar preparadas para ajustar sus operaciones en consecuencia, con el fin de ofrecer un servicio más eficiente y satisfactorio a sus usuarios."
   ]
  },
  {
   "cell_type": "markdown",
   "metadata": {},
   "source": [
    "<div class=\"alert alert-block alert-warning\">\n",
    "<b>Comentario revisor</b> <a class=\"tocSkip\"></a>\n",
    "\n",
    "En general, considero que realizaste un excelente trabajo con el proyecto. Lograste limpiar y organizar las bases de datos eficazmente. Además, tu análisis exploratorio fue exhaustivo, presentando resultados relevantes que serán muy útiles para la toma de decisiones. También, desarrollaste las pruebas de hipótesis de manera acertada. Sin embargo, siempre hay espacio para mejorar y quisiera señalar algunos aspectos que podrías considerar:\n",
    "\n",
    "\n",
    "* Realizar un análisis de duplicados\n",
    "    \n",
    "*  Realizar análisis complementarios eliminando los valores que parecen ser atípicos.    \n",
    ".\n",
    "    \n",
    "</div>"
   ]
  },
  {
   "cell_type": "markdown",
   "metadata": {},
   "source": [
    "<div class=\"alert alert-block alert-success\">\n",
    "<b>Comentario del revisor</b> <a class=\"tocSkip\"></a>\n",
    "\n",
    "Gran trabajo con los ajustes! Que sigas disfrutando los siguientes cursos!\n",
    "</div>"
   ]
  }
 ],
 "metadata": {
  "ExecuteTimeLog": [
   {
    "duration": 2632,
    "start_time": "2024-09-20T01:38:38.856Z"
   },
   {
    "duration": 5,
    "start_time": "2024-09-20T01:40:24.812Z"
   },
   {
    "duration": 4,
    "start_time": "2024-09-20T01:40:51.726Z"
   },
   {
    "duration": 4,
    "start_time": "2024-09-20T01:41:00.212Z"
   },
   {
    "duration": 17,
    "start_time": "2024-09-20T01:43:27.653Z"
   },
   {
    "duration": 11,
    "start_time": "2024-09-20T01:43:44.987Z"
   },
   {
    "duration": 8,
    "start_time": "2024-09-20T01:44:24.102Z"
   },
   {
    "duration": 9,
    "start_time": "2024-09-20T01:45:32.975Z"
   },
   {
    "duration": 7,
    "start_time": "2024-09-20T01:45:55.372Z"
   },
   {
    "duration": 4,
    "start_time": "2024-09-20T01:46:21.609Z"
   },
   {
    "duration": 8,
    "start_time": "2024-09-20T01:46:24.303Z"
   },
   {
    "duration": 7,
    "start_time": "2024-09-20T01:46:56.230Z"
   },
   {
    "duration": 7,
    "start_time": "2024-09-20T01:47:01.932Z"
   },
   {
    "duration": 6,
    "start_time": "2024-09-20T01:47:26.405Z"
   },
   {
    "duration": 7,
    "start_time": "2024-09-20T01:47:36.755Z"
   },
   {
    "duration": 7,
    "start_time": "2024-09-20T01:47:45.898Z"
   },
   {
    "duration": 6,
    "start_time": "2024-09-20T01:48:11.817Z"
   },
   {
    "duration": 3,
    "start_time": "2024-09-20T01:48:25.577Z"
   },
   {
    "duration": 9,
    "start_time": "2024-09-20T01:51:22.698Z"
   },
   {
    "duration": 10,
    "start_time": "2024-09-20T01:51:43.638Z"
   },
   {
    "duration": 4,
    "start_time": "2024-09-20T01:53:23.351Z"
   },
   {
    "duration": 7,
    "start_time": "2024-09-20T01:53:26.522Z"
   },
   {
    "duration": 5,
    "start_time": "2024-09-20T01:53:37.816Z"
   },
   {
    "duration": 6,
    "start_time": "2024-09-20T01:55:08.799Z"
   },
   {
    "duration": 228,
    "start_time": "2024-09-20T02:16:56.323Z"
   },
   {
    "duration": 10,
    "start_time": "2024-09-20T02:16:57.197Z"
   },
   {
    "duration": 9,
    "start_time": "2024-09-20T02:16:58.575Z"
   },
   {
    "duration": 3,
    "start_time": "2024-09-20T02:55:36.595Z"
   },
   {
    "duration": 8,
    "start_time": "2024-09-20T02:55:41.392Z"
   },
   {
    "duration": 6,
    "start_time": "2024-09-20T02:56:09.312Z"
   },
   {
    "duration": 11,
    "start_time": "2024-09-20T02:56:12.565Z"
   },
   {
    "duration": 8,
    "start_time": "2024-09-20T02:56:20.762Z"
   },
   {
    "duration": 12,
    "start_time": "2024-09-20T02:56:30.946Z"
   },
   {
    "duration": 12,
    "start_time": "2024-09-20T02:56:39.817Z"
   },
   {
    "duration": 6,
    "start_time": "2024-09-20T02:57:03.055Z"
   },
   {
    "duration": 7,
    "start_time": "2024-09-20T02:57:12.332Z"
   },
   {
    "duration": 3,
    "start_time": "2024-09-20T03:02:08.627Z"
   },
   {
    "duration": 12,
    "start_time": "2024-09-20T03:02:20.496Z"
   },
   {
    "duration": 6,
    "start_time": "2024-09-20T03:03:06.494Z"
   },
   {
    "duration": 3,
    "start_time": "2024-09-20T03:04:56.759Z"
   },
   {
    "duration": 167,
    "start_time": "2024-09-20T03:08:14.560Z"
   },
   {
    "duration": 15,
    "start_time": "2024-09-20T03:09:12.134Z"
   },
   {
    "duration": 166,
    "start_time": "2024-09-20T03:09:21.137Z"
   },
   {
    "duration": 161,
    "start_time": "2024-09-20T03:09:30.217Z"
   },
   {
    "duration": 3,
    "start_time": "2024-09-20T03:12:22.018Z"
   },
   {
    "duration": 9,
    "start_time": "2024-09-20T03:12:37.260Z"
   },
   {
    "duration": 133,
    "start_time": "2024-09-20T03:21:34.204Z"
   },
   {
    "duration": 74,
    "start_time": "2024-09-20T03:21:58.991Z"
   },
   {
    "duration": 7,
    "start_time": "2024-09-20T03:26:38.585Z"
   },
   {
    "duration": 3,
    "start_time": "2024-09-20T03:30:28.933Z"
   },
   {
    "duration": 188,
    "start_time": "2024-09-20T03:30:39.846Z"
   },
   {
    "duration": 23,
    "start_time": "2024-09-20T03:31:11.753Z"
   },
   {
    "duration": 23,
    "start_time": "2024-09-20T03:32:08.775Z"
   },
   {
    "duration": 7,
    "start_time": "2024-09-20T03:32:16.156Z"
   },
   {
    "duration": 3,
    "start_time": "2024-09-20T03:32:18.372Z"
   },
   {
    "duration": 128,
    "start_time": "2024-09-20T03:33:48.817Z"
   },
   {
    "duration": 334,
    "start_time": "2024-09-20T03:34:25.984Z"
   },
   {
    "duration": 140,
    "start_time": "2024-09-20T03:34:32.912Z"
   },
   {
    "duration": 139,
    "start_time": "2024-09-20T03:35:39.070Z"
   },
   {
    "duration": 10,
    "start_time": "2024-09-20T03:39:59.041Z"
   },
   {
    "duration": 9,
    "start_time": "2024-09-20T03:41:16.248Z"
   },
   {
    "duration": 10,
    "start_time": "2024-09-20T03:42:03.955Z"
   },
   {
    "duration": 6,
    "start_time": "2024-09-20T03:42:25.507Z"
   },
   {
    "duration": 7,
    "start_time": "2024-09-20T03:42:37.662Z"
   },
   {
    "duration": 8,
    "start_time": "2024-09-20T03:42:42.991Z"
   },
   {
    "duration": 8,
    "start_time": "2024-09-20T03:42:49.564Z"
   },
   {
    "duration": 7,
    "start_time": "2024-09-20T03:42:56.424Z"
   },
   {
    "duration": 106,
    "start_time": "2024-09-20T03:47:40.187Z"
   },
   {
    "duration": 145,
    "start_time": "2024-09-20T03:47:50.164Z"
   },
   {
    "duration": 3,
    "start_time": "2024-09-20T03:53:49.028Z"
   },
   {
    "duration": 4,
    "start_time": "2024-09-20T03:53:49.518Z"
   },
   {
    "duration": 2,
    "start_time": "2024-09-20T03:54:08.339Z"
   },
   {
    "duration": 3,
    "start_time": "2024-09-20T03:54:50.152Z"
   },
   {
    "duration": 3,
    "start_time": "2024-09-20T03:54:56.671Z"
   },
   {
    "duration": 11,
    "start_time": "2024-09-20T04:00:07.059Z"
   },
   {
    "duration": 11,
    "start_time": "2024-09-20T04:00:15.136Z"
   },
   {
    "duration": 9,
    "start_time": "2024-09-20T04:00:30.907Z"
   },
   {
    "duration": 85,
    "start_time": "2024-09-20T04:02:06.930Z"
   },
   {
    "duration": 14,
    "start_time": "2024-09-20T04:06:56.605Z"
   },
   {
    "duration": 2,
    "start_time": "2024-09-20T04:08:29.102Z"
   },
   {
    "duration": 14,
    "start_time": "2024-09-20T04:08:35.111Z"
   },
   {
    "duration": 15,
    "start_time": "2024-09-20T04:08:38.624Z"
   },
   {
    "duration": 336,
    "start_time": "2024-09-20T04:12:23.430Z"
   },
   {
    "duration": 217,
    "start_time": "2024-09-20T04:15:20.189Z"
   },
   {
    "duration": 3,
    "start_time": "2024-09-20T04:16:05.360Z"
   },
   {
    "duration": 7,
    "start_time": "2024-09-20T04:16:13.655Z"
   },
   {
    "duration": 0,
    "start_time": "2024-09-20T04:16:13.665Z"
   },
   {
    "duration": 0,
    "start_time": "2024-09-20T04:16:13.667Z"
   },
   {
    "duration": 0,
    "start_time": "2024-09-20T04:16:13.669Z"
   },
   {
    "duration": 0,
    "start_time": "2024-09-20T04:16:13.670Z"
   },
   {
    "duration": 181,
    "start_time": "2024-09-20T04:16:13.673Z"
   },
   {
    "duration": 0,
    "start_time": "2024-09-20T04:16:13.857Z"
   },
   {
    "duration": 0,
    "start_time": "2024-09-20T04:16:13.859Z"
   },
   {
    "duration": 0,
    "start_time": "2024-09-20T04:16:13.860Z"
   },
   {
    "duration": 0,
    "start_time": "2024-09-20T04:16:13.862Z"
   },
   {
    "duration": 0,
    "start_time": "2024-09-20T04:16:13.863Z"
   },
   {
    "duration": 0,
    "start_time": "2024-09-20T04:16:13.864Z"
   },
   {
    "duration": 0,
    "start_time": "2024-09-20T04:16:13.865Z"
   },
   {
    "duration": 0,
    "start_time": "2024-09-20T04:16:13.866Z"
   },
   {
    "duration": 0,
    "start_time": "2024-09-20T04:16:13.867Z"
   },
   {
    "duration": 0,
    "start_time": "2024-09-20T04:16:13.868Z"
   },
   {
    "duration": 0,
    "start_time": "2024-09-20T04:16:13.869Z"
   },
   {
    "duration": 0,
    "start_time": "2024-09-20T04:16:13.870Z"
   },
   {
    "duration": 0,
    "start_time": "2024-09-20T04:16:13.871Z"
   },
   {
    "duration": 0,
    "start_time": "2024-09-20T04:16:13.872Z"
   },
   {
    "duration": 0,
    "start_time": "2024-09-20T04:16:13.873Z"
   },
   {
    "duration": 0,
    "start_time": "2024-09-20T04:16:13.875Z"
   },
   {
    "duration": 0,
    "start_time": "2024-09-20T04:16:13.876Z"
   },
   {
    "duration": 0,
    "start_time": "2024-09-20T04:16:13.877Z"
   },
   {
    "duration": 0,
    "start_time": "2024-09-20T04:16:13.878Z"
   },
   {
    "duration": 0,
    "start_time": "2024-09-20T04:16:13.879Z"
   },
   {
    "duration": 0,
    "start_time": "2024-09-20T04:16:13.880Z"
   },
   {
    "duration": 0,
    "start_time": "2024-09-20T04:16:13.881Z"
   },
   {
    "duration": 0,
    "start_time": "2024-09-20T04:16:13.881Z"
   },
   {
    "duration": 0,
    "start_time": "2024-09-20T04:16:13.882Z"
   },
   {
    "duration": 0,
    "start_time": "2024-09-20T04:16:13.884Z"
   },
   {
    "duration": 0,
    "start_time": "2024-09-20T04:16:13.884Z"
   },
   {
    "duration": 7,
    "start_time": "2024-09-20T04:16:51.667Z"
   },
   {
    "duration": 0,
    "start_time": "2024-09-20T04:16:51.676Z"
   },
   {
    "duration": 0,
    "start_time": "2024-09-20T04:16:51.677Z"
   },
   {
    "duration": 0,
    "start_time": "2024-09-20T04:16:51.678Z"
   },
   {
    "duration": 0,
    "start_time": "2024-09-20T04:16:51.679Z"
   },
   {
    "duration": 0,
    "start_time": "2024-09-20T04:16:51.681Z"
   },
   {
    "duration": 0,
    "start_time": "2024-09-20T04:16:51.682Z"
   },
   {
    "duration": 0,
    "start_time": "2024-09-20T04:16:51.683Z"
   },
   {
    "duration": 0,
    "start_time": "2024-09-20T04:16:51.684Z"
   },
   {
    "duration": 0,
    "start_time": "2024-09-20T04:16:51.684Z"
   },
   {
    "duration": 202,
    "start_time": "2024-09-20T04:16:51.688Z"
   },
   {
    "duration": 0,
    "start_time": "2024-09-20T04:16:51.893Z"
   },
   {
    "duration": 0,
    "start_time": "2024-09-20T04:16:51.893Z"
   },
   {
    "duration": 0,
    "start_time": "2024-09-20T04:16:51.894Z"
   },
   {
    "duration": 0,
    "start_time": "2024-09-20T04:16:51.896Z"
   },
   {
    "duration": 0,
    "start_time": "2024-09-20T04:16:51.897Z"
   },
   {
    "duration": 0,
    "start_time": "2024-09-20T04:16:51.898Z"
   },
   {
    "duration": 0,
    "start_time": "2024-09-20T04:16:51.899Z"
   },
   {
    "duration": 0,
    "start_time": "2024-09-20T04:16:51.900Z"
   },
   {
    "duration": 0,
    "start_time": "2024-09-20T04:16:51.901Z"
   },
   {
    "duration": 0,
    "start_time": "2024-09-20T04:16:51.902Z"
   },
   {
    "duration": 0,
    "start_time": "2024-09-20T04:16:51.903Z"
   },
   {
    "duration": 0,
    "start_time": "2024-09-20T04:16:51.904Z"
   },
   {
    "duration": 0,
    "start_time": "2024-09-20T04:16:51.905Z"
   },
   {
    "duration": 0,
    "start_time": "2024-09-20T04:16:51.906Z"
   },
   {
    "duration": 0,
    "start_time": "2024-09-20T04:16:51.907Z"
   },
   {
    "duration": 0,
    "start_time": "2024-09-20T04:16:51.910Z"
   },
   {
    "duration": 0,
    "start_time": "2024-09-20T04:16:51.911Z"
   },
   {
    "duration": 0,
    "start_time": "2024-09-20T04:16:51.913Z"
   },
   {
    "duration": 0,
    "start_time": "2024-09-20T04:16:51.913Z"
   },
   {
    "duration": 0,
    "start_time": "2024-09-20T04:16:51.942Z"
   },
   {
    "duration": 0,
    "start_time": "2024-09-20T04:16:51.944Z"
   },
   {
    "duration": 754,
    "start_time": "2024-09-20T04:17:04.524Z"
   },
   {
    "duration": 11,
    "start_time": "2024-09-20T04:17:05.556Z"
   },
   {
    "duration": 9,
    "start_time": "2024-09-20T04:17:06.534Z"
   },
   {
    "duration": 6,
    "start_time": "2024-09-20T04:17:08.693Z"
   },
   {
    "duration": 8,
    "start_time": "2024-09-20T04:17:10.826Z"
   },
   {
    "duration": 9,
    "start_time": "2024-09-20T04:17:12.994Z"
   },
   {
    "duration": 9,
    "start_time": "2024-09-20T04:17:14.993Z"
   },
   {
    "duration": 6,
    "start_time": "2024-09-20T04:17:16.927Z"
   },
   {
    "duration": 7,
    "start_time": "2024-09-20T04:17:18.304Z"
   },
   {
    "duration": 3,
    "start_time": "2024-09-20T04:17:20.293Z"
   },
   {
    "duration": 9,
    "start_time": "2024-09-20T04:17:21.987Z"
   },
   {
    "duration": 4,
    "start_time": "2024-09-20T04:17:23.797Z"
   },
   {
    "duration": 7,
    "start_time": "2024-09-20T04:17:25.447Z"
   },
   {
    "duration": 5,
    "start_time": "2024-09-20T04:17:27.013Z"
   },
   {
    "duration": 166,
    "start_time": "2024-09-20T04:17:28.713Z"
   },
   {
    "duration": 127,
    "start_time": "2024-09-20T04:17:31.471Z"
   },
   {
    "duration": 9,
    "start_time": "2024-09-20T04:17:34.012Z"
   },
   {
    "duration": 5,
    "start_time": "2024-09-20T04:17:35.649Z"
   },
   {
    "duration": 157,
    "start_time": "2024-09-20T04:17:36.367Z"
   },
   {
    "duration": 8,
    "start_time": "2024-09-20T04:17:39.166Z"
   },
   {
    "duration": 12,
    "start_time": "2024-09-20T04:17:41.104Z"
   },
   {
    "duration": 8,
    "start_time": "2024-09-20T04:17:43.245Z"
   },
   {
    "duration": 10,
    "start_time": "2024-09-20T04:17:44.695Z"
   },
   {
    "duration": 74,
    "start_time": "2024-09-20T04:17:47.335Z"
   },
   {
    "duration": 64,
    "start_time": "2024-09-20T04:18:56.719Z"
   },
   {
    "duration": 6,
    "start_time": "2024-09-20T04:19:01.057Z"
   },
   {
    "duration": 0,
    "start_time": "2024-09-20T04:19:01.065Z"
   },
   {
    "duration": 0,
    "start_time": "2024-09-20T04:19:01.066Z"
   },
   {
    "duration": 178,
    "start_time": "2024-09-20T04:19:01.072Z"
   },
   {
    "duration": 0,
    "start_time": "2024-09-20T04:19:01.253Z"
   },
   {
    "duration": 0,
    "start_time": "2024-09-20T04:19:01.254Z"
   },
   {
    "duration": 0,
    "start_time": "2024-09-20T04:19:01.255Z"
   },
   {
    "duration": 0,
    "start_time": "2024-09-20T04:19:01.256Z"
   },
   {
    "duration": 0,
    "start_time": "2024-09-20T04:19:01.257Z"
   },
   {
    "duration": 0,
    "start_time": "2024-09-20T04:19:01.259Z"
   },
   {
    "duration": 0,
    "start_time": "2024-09-20T04:19:01.260Z"
   },
   {
    "duration": 0,
    "start_time": "2024-09-20T04:19:01.261Z"
   },
   {
    "duration": 0,
    "start_time": "2024-09-20T04:19:01.262Z"
   },
   {
    "duration": 0,
    "start_time": "2024-09-20T04:19:01.263Z"
   },
   {
    "duration": 0,
    "start_time": "2024-09-20T04:19:01.264Z"
   },
   {
    "duration": 0,
    "start_time": "2024-09-20T04:19:01.266Z"
   },
   {
    "duration": 0,
    "start_time": "2024-09-20T04:19:01.267Z"
   },
   {
    "duration": 0,
    "start_time": "2024-09-20T04:19:01.268Z"
   },
   {
    "duration": 0,
    "start_time": "2024-09-20T04:19:01.268Z"
   },
   {
    "duration": 0,
    "start_time": "2024-09-20T04:19:01.269Z"
   },
   {
    "duration": 0,
    "start_time": "2024-09-20T04:19:01.270Z"
   },
   {
    "duration": 0,
    "start_time": "2024-09-20T04:19:01.272Z"
   },
   {
    "duration": 0,
    "start_time": "2024-09-20T04:19:01.273Z"
   },
   {
    "duration": 0,
    "start_time": "2024-09-20T04:19:01.275Z"
   },
   {
    "duration": 0,
    "start_time": "2024-09-20T04:19:01.276Z"
   },
   {
    "duration": 0,
    "start_time": "2024-09-20T04:19:01.278Z"
   },
   {
    "duration": 0,
    "start_time": "2024-09-20T04:19:01.279Z"
   },
   {
    "duration": 1,
    "start_time": "2024-09-20T04:19:01.281Z"
   },
   {
    "duration": 0,
    "start_time": "2024-09-20T04:19:01.282Z"
   },
   {
    "duration": 0,
    "start_time": "2024-09-20T04:19:01.284Z"
   },
   {
    "duration": 0,
    "start_time": "2024-09-20T04:19:01.284Z"
   },
   {
    "duration": 0,
    "start_time": "2024-09-20T04:19:01.285Z"
   },
   {
    "duration": 13,
    "start_time": "2024-09-20T04:19:10.548Z"
   },
   {
    "duration": 13,
    "start_time": "2024-09-20T04:19:15.964Z"
   },
   {
    "duration": 866,
    "start_time": "2024-09-20T04:19:22.319Z"
   },
   {
    "duration": 2,
    "start_time": "2024-09-20T04:19:24.000Z"
   },
   {
    "duration": 9,
    "start_time": "2024-09-20T04:19:25.215Z"
   },
   {
    "duration": 10,
    "start_time": "2024-09-20T04:19:26.096Z"
   },
   {
    "duration": 6,
    "start_time": "2024-09-20T04:19:27.591Z"
   },
   {
    "duration": 8,
    "start_time": "2024-09-20T04:19:29.010Z"
   },
   {
    "duration": 5,
    "start_time": "2024-09-20T04:19:32.147Z"
   },
   {
    "duration": 10,
    "start_time": "2024-09-20T04:19:33.584Z"
   },
   {
    "duration": 3,
    "start_time": "2024-09-20T04:19:35.632Z"
   },
   {
    "duration": 7,
    "start_time": "2024-09-20T04:19:39.206Z"
   },
   {
    "duration": 4,
    "start_time": "2024-09-20T04:19:40.955Z"
   },
   {
    "duration": 164,
    "start_time": "2024-09-20T04:19:43.373Z"
   },
   {
    "duration": 75,
    "start_time": "2024-09-20T04:19:45.859Z"
   },
   {
    "duration": 6,
    "start_time": "2024-09-20T04:20:02.413Z"
   },
   {
    "duration": 4,
    "start_time": "2024-09-20T04:20:04.735Z"
   },
   {
    "duration": 133,
    "start_time": "2024-09-20T04:20:06.031Z"
   },
   {
    "duration": 96,
    "start_time": "2024-09-20T04:20:10.484Z"
   },
   {
    "duration": 136,
    "start_time": "2024-09-20T04:20:18.548Z"
   },
   {
    "duration": 7,
    "start_time": "2024-09-20T04:20:20.948Z"
   },
   {
    "duration": 7,
    "start_time": "2024-09-20T04:20:22.120Z"
   },
   {
    "duration": 9,
    "start_time": "2024-09-20T04:20:23.103Z"
   },
   {
    "duration": 9,
    "start_time": "2024-09-20T04:20:25.170Z"
   },
   {
    "duration": 11,
    "start_time": "2024-09-20T04:20:26.988Z"
   },
   {
    "duration": 96,
    "start_time": "2024-09-20T04:20:28.723Z"
   },
   {
    "duration": 4,
    "start_time": "2024-09-20T04:20:31.192Z"
   },
   {
    "duration": 3,
    "start_time": "2024-09-20T04:20:32.924Z"
   },
   {
    "duration": 2,
    "start_time": "2024-09-20T04:20:33.421Z"
   },
   {
    "duration": 4,
    "start_time": "2024-09-20T04:20:34.151Z"
   },
   {
    "duration": 11,
    "start_time": "2024-09-20T04:20:36.965Z"
   },
   {
    "duration": 97,
    "start_time": "2024-09-20T04:20:39.023Z"
   },
   {
    "duration": 590,
    "start_time": "2024-09-20T04:20:40.962Z"
   },
   {
    "duration": 14,
    "start_time": "2024-09-20T04:20:53.086Z"
   },
   {
    "duration": 6,
    "start_time": "2024-09-20T04:23:38.567Z"
   },
   {
    "duration": 5,
    "start_time": "2024-09-20T04:23:41.688Z"
   },
   {
    "duration": 6,
    "start_time": "2024-09-20T04:24:11.226Z"
   },
   {
    "duration": 2575,
    "start_time": "2024-09-20T19:23:51.452Z"
   },
   {
    "duration": 12,
    "start_time": "2024-09-20T19:23:54.029Z"
   },
   {
    "duration": 11,
    "start_time": "2024-09-20T19:23:55.262Z"
   },
   {
    "duration": 8,
    "start_time": "2024-09-20T19:24:13.321Z"
   },
   {
    "duration": 8,
    "start_time": "2024-09-20T19:24:22.400Z"
   },
   {
    "duration": 6,
    "start_time": "2024-09-20T19:24:32.694Z"
   },
   {
    "duration": 7,
    "start_time": "2024-09-20T19:27:52.069Z"
   },
   {
    "duration": 10,
    "start_time": "2024-09-20T19:27:57.410Z"
   },
   {
    "duration": 9,
    "start_time": "2024-09-20T19:28:07.488Z"
   },
   {
    "duration": 6,
    "start_time": "2024-09-20T19:28:46.575Z"
   },
   {
    "duration": 10,
    "start_time": "2024-09-20T19:28:50.406Z"
   },
   {
    "duration": 12,
    "start_time": "2024-09-20T19:29:19.754Z"
   },
   {
    "duration": 13,
    "start_time": "2024-09-20T19:30:27.022Z"
   },
   {
    "duration": 6,
    "start_time": "2024-09-20T19:31:02.673Z"
   },
   {
    "duration": 7,
    "start_time": "2024-09-20T19:31:04.976Z"
   },
   {
    "duration": 7,
    "start_time": "2024-09-20T19:31:31.879Z"
   },
   {
    "duration": 13,
    "start_time": "2024-09-20T19:31:53.568Z"
   },
   {
    "duration": 8,
    "start_time": "2024-09-20T19:32:15.919Z"
   },
   {
    "duration": 5,
    "start_time": "2024-09-20T19:32:30.431Z"
   },
   {
    "duration": 7,
    "start_time": "2024-09-20T19:32:33.597Z"
   },
   {
    "duration": 6,
    "start_time": "2024-09-20T19:33:08.878Z"
   },
   {
    "duration": 3,
    "start_time": "2024-09-20T19:33:15.891Z"
   },
   {
    "duration": 9,
    "start_time": "2024-09-20T19:33:18.695Z"
   },
   {
    "duration": 10,
    "start_time": "2024-09-20T19:33:51.934Z"
   },
   {
    "duration": 9,
    "start_time": "2024-09-20T19:34:29.128Z"
   },
   {
    "duration": 11,
    "start_time": "2024-09-20T19:40:04.688Z"
   },
   {
    "duration": 7,
    "start_time": "2024-09-20T19:42:27.076Z"
   },
   {
    "duration": 5,
    "start_time": "2024-09-20T19:42:37.848Z"
   },
   {
    "duration": 449,
    "start_time": "2024-09-20T19:43:17.449Z"
   },
   {
    "duration": 7,
    "start_time": "2024-09-20T19:43:31.712Z"
   },
   {
    "duration": 3,
    "start_time": "2024-09-20T19:43:33.468Z"
   },
   {
    "duration": 265,
    "start_time": "2024-09-20T20:03:16.092Z"
   },
   {
    "duration": 245,
    "start_time": "2024-09-20T20:03:33.728Z"
   },
   {
    "duration": 247,
    "start_time": "2024-09-20T20:03:46.991Z"
   },
   {
    "duration": 156,
    "start_time": "2024-09-20T20:03:59.594Z"
   },
   {
    "duration": 7,
    "start_time": "2024-09-20T20:17:52.216Z"
   },
   {
    "duration": 3,
    "start_time": "2024-09-20T20:18:20.146Z"
   },
   {
    "duration": 140,
    "start_time": "2024-09-20T20:18:21.506Z"
   },
   {
    "duration": 138,
    "start_time": "2024-09-20T20:19:50.907Z"
   },
   {
    "duration": 159,
    "start_time": "2024-09-20T20:29:28.742Z"
   },
   {
    "duration": 281,
    "start_time": "2024-09-20T20:29:51.264Z"
   },
   {
    "duration": 234,
    "start_time": "2024-09-20T20:30:37.805Z"
   },
   {
    "duration": 9,
    "start_time": "2024-09-20T20:34:14.724Z"
   },
   {
    "duration": 8,
    "start_time": "2024-09-20T20:50:52.671Z"
   },
   {
    "duration": 9,
    "start_time": "2024-09-20T20:50:54.161Z"
   },
   {
    "duration": 9,
    "start_time": "2024-09-20T20:51:16.300Z"
   },
   {
    "duration": 7,
    "start_time": "2024-09-20T20:51:24.080Z"
   },
   {
    "duration": 7,
    "start_time": "2024-09-20T20:51:28.625Z"
   },
   {
    "duration": 10,
    "start_time": "2024-09-20T20:55:46.441Z"
   },
   {
    "duration": 109,
    "start_time": "2024-09-20T20:56:33.077Z"
   },
   {
    "duration": 4,
    "start_time": "2024-09-20T21:00:12.588Z"
   },
   {
    "duration": 3,
    "start_time": "2024-09-20T21:00:14.307Z"
   },
   {
    "duration": 3,
    "start_time": "2024-09-20T21:00:32.237Z"
   },
   {
    "duration": 2,
    "start_time": "2024-09-20T21:01:18.845Z"
   },
   {
    "duration": 4,
    "start_time": "2024-09-20T21:02:40.980Z"
   },
   {
    "duration": 16,
    "start_time": "2024-09-20T21:06:10.868Z"
   },
   {
    "duration": 87,
    "start_time": "2024-09-20T21:07:16.182Z"
   },
   {
    "duration": 7,
    "start_time": "2024-09-20T21:09:48.139Z"
   },
   {
    "duration": 8,
    "start_time": "2024-09-20T21:19:25.852Z"
   },
   {
    "duration": 8,
    "start_time": "2024-09-20T21:21:21.916Z"
   },
   {
    "duration": 7,
    "start_time": "2024-09-20T21:22:40.222Z"
   },
   {
    "duration": 7,
    "start_time": "2024-09-20T21:24:26.361Z"
   },
   {
    "duration": 4,
    "start_time": "2024-09-20T21:27:24.371Z"
   },
   {
    "duration": 4,
    "start_time": "2024-09-20T21:29:31.844Z"
   },
   {
    "duration": 5,
    "start_time": "2024-09-20T21:32:43.496Z"
   },
   {
    "duration": 7,
    "start_time": "2024-09-20T21:33:00.630Z"
   },
   {
    "duration": 160,
    "start_time": "2024-09-23T03:34:13.694Z"
   },
   {
    "duration": 11,
    "start_time": "2024-09-23T03:35:10.807Z"
   },
   {
    "duration": 2570,
    "start_time": "2024-09-23T03:35:13.589Z"
   },
   {
    "duration": 3,
    "start_time": "2024-09-23T03:42:16.055Z"
   },
   {
    "duration": 20,
    "start_time": "2024-09-23T03:42:17.195Z"
   },
   {
    "duration": 7,
    "start_time": "2024-09-23T03:43:13.213Z"
   },
   {
    "duration": 6,
    "start_time": "2024-09-23T03:46:37.636Z"
   },
   {
    "duration": 6,
    "start_time": "2024-09-23T03:47:45.418Z"
   },
   {
    "duration": 75,
    "start_time": "2024-09-23T03:53:40.401Z"
   },
   {
    "duration": 813,
    "start_time": "2024-09-23T03:53:55.493Z"
   },
   {
    "duration": 13,
    "start_time": "2024-09-23T03:53:56.308Z"
   },
   {
    "duration": 9,
    "start_time": "2024-09-23T03:53:56.323Z"
   },
   {
    "duration": 7,
    "start_time": "2024-09-23T03:53:56.334Z"
   },
   {
    "duration": 9,
    "start_time": "2024-09-23T03:53:56.346Z"
   },
   {
    "duration": 9,
    "start_time": "2024-09-23T03:53:56.369Z"
   },
   {
    "duration": 5,
    "start_time": "2024-09-23T03:53:56.380Z"
   },
   {
    "duration": 7,
    "start_time": "2024-09-23T03:53:56.386Z"
   },
   {
    "duration": 5,
    "start_time": "2024-09-23T03:53:56.395Z"
   },
   {
    "duration": 4,
    "start_time": "2024-09-23T03:53:56.402Z"
   },
   {
    "duration": 6,
    "start_time": "2024-09-23T03:53:56.408Z"
   },
   {
    "duration": 3,
    "start_time": "2024-09-23T03:53:56.415Z"
   },
   {
    "duration": 52,
    "start_time": "2024-09-23T03:53:56.419Z"
   },
   {
    "duration": 8,
    "start_time": "2024-09-23T03:53:56.474Z"
   },
   {
    "duration": 6,
    "start_time": "2024-09-23T03:53:56.484Z"
   },
   {
    "duration": 7,
    "start_time": "2024-09-23T03:53:56.491Z"
   },
   {
    "duration": 8,
    "start_time": "2024-09-23T03:53:56.499Z"
   },
   {
    "duration": 6,
    "start_time": "2024-09-23T03:53:56.509Z"
   },
   {
    "duration": 3,
    "start_time": "2024-09-23T03:53:56.516Z"
   },
   {
    "duration": 208,
    "start_time": "2024-09-23T03:53:56.521Z"
   },
   {
    "duration": 79,
    "start_time": "2024-09-23T03:53:56.732Z"
   },
   {
    "duration": 6,
    "start_time": "2024-09-23T03:53:56.813Z"
   },
   {
    "duration": 3,
    "start_time": "2024-09-23T03:53:56.821Z"
   },
   {
    "duration": 206,
    "start_time": "2024-09-23T03:53:56.825Z"
   },
   {
    "duration": 110,
    "start_time": "2024-09-23T03:53:57.032Z"
   },
   {
    "duration": 3,
    "start_time": "2024-09-23T03:53:57.144Z"
   },
   {
    "duration": 3,
    "start_time": "2024-09-23T03:53:57.149Z"
   },
   {
    "duration": 18,
    "start_time": "2024-09-23T03:53:57.153Z"
   },
   {
    "duration": 4,
    "start_time": "2024-09-23T03:53:57.175Z"
   },
   {
    "duration": 13,
    "start_time": "2024-09-23T03:53:57.181Z"
   },
   {
    "duration": 100,
    "start_time": "2024-09-23T03:53:57.195Z"
   },
   {
    "duration": 230,
    "start_time": "2024-09-23T03:53:57.296Z"
   },
   {
    "duration": 0,
    "start_time": "2024-09-23T03:53:57.527Z"
   }
  ],
  "kernelspec": {
   "display_name": "Python 3 (ipykernel)",
   "language": "python",
   "name": "python3"
  },
  "language_info": {
   "codemirror_mode": {
    "name": "ipython",
    "version": 3
   },
   "file_extension": ".py",
   "mimetype": "text/x-python",
   "name": "python",
   "nbconvert_exporter": "python",
   "pygments_lexer": "ipython3",
   "version": "3.12.4"
  },
  "toc": {
   "base_numbering": 1,
   "nav_menu": {},
   "number_sections": true,
   "sideBar": true,
   "skip_h1_title": true,
   "title_cell": "Table of Contents",
   "title_sidebar": "Contents",
   "toc_cell": false,
   "toc_position": {},
   "toc_section_display": true,
   "toc_window_display": false
  }
 },
 "nbformat": 4,
 "nbformat_minor": 4
}
